{
 "cells": [
  {
   "cell_type": "markdown",
   "id": "e2cfd1e0",
   "metadata": {},
   "source": [
    "# Basic Natural Language Processing and Modifying .csv files"
   ]
  },
  {
   "cell_type": "markdown",
   "id": "7785f008",
   "metadata": {},
   "source": [
    "### Importing Libraries"
   ]
  },
  {
   "cell_type": "code",
   "execution_count": 413,
   "id": "0ccc79ad",
   "metadata": {},
   "outputs": [],
   "source": [
    "import pandas as pd\n",
    "import nltk\n",
    "import string\n",
    "import seaborn as sns\n",
    "from nltk import word_tokenize\n",
    "from nltk.corpus import stopwords\n",
    "from nltk.stem.porter import PorterStemmer\n",
    "from nltk import pos_tag\n",
    "from nltk.util import ngrams\n",
    "import matplotlib.pyplot as plt\n",
    "from collections import Counter"
   ]
  },
  {
   "cell_type": "markdown",
   "id": "1e1db136",
   "metadata": {},
   "source": [
    "### Importing Data resources"
   ]
  },
  {
   "cell_type": "code",
   "execution_count": 107,
   "id": "cece238d",
   "metadata": {},
   "outputs": [],
   "source": [
    "raw_test_loc = \"./resource_data/train.csv\"\n",
    "test_loc = \"./modified_resources_data/test_df.csv\""
   ]
  },
  {
   "cell_type": "markdown",
   "id": "ba575c9d",
   "metadata": {},
   "source": [
    "### Converting to Python Objects"
   ]
  },
  {
   "cell_type": "code",
   "execution_count": 108,
   "id": "d7d8ccc7",
   "metadata": {},
   "outputs": [],
   "source": [
    "def to_df(filepath):\n",
    "    df = pd.read_csv(filepath).dropna()\n",
    "    cols = df.columns\n",
    "    col_dict= {}\n",
    "    for i in cols:\n",
    "        col_dict[i] = df[i].unique()\n",
    "    for i in col_dict.keys():\n",
    "        print(\"Unique\", i ,\":\", end= \" \")\n",
    "        if (len(col_dict[i]) < 10):\n",
    "            print( col_dict[i])\n",
    "        else:\n",
    "            print(len(col_dict[i]))\n",
    "    return df"
   ]
  },
  {
   "cell_type": "markdown",
   "id": "0e60ac9e",
   "metadata": {},
   "source": [
    "### Preprocessing with NLTK"
   ]
  },
  {
   "cell_type": "code",
   "execution_count": 109,
   "id": "bf2a662e",
   "metadata": {},
   "outputs": [],
   "source": [
    "def pre_process(text):\n",
    "#   Lower Texts\n",
    "    text = text.lower()\n",
    "#   Remove Punctuation\n",
    "    text_p = \"\".join([char for char in text if char not in string.punctuation])\n",
    "#   Tokenize\n",
    "    words = word_tokenize(text_p)\n",
    "#   Stopword Filtering\n",
    "    stop_words = stopwords.words('english')\n",
    "    filtered_words = [word for word in words if word not in stop_words]\n",
    "#   Stemming \n",
    "    porter = PorterStemmer()\n",
    "    stemmed = [porter.stem(word) for word in filtered_words]\n",
    "#   Part of Speech Token\n",
    "    pos = pos_tag(filtered_words)\n",
    "    return [words, filtered_words, stemmed, pos]\n",
    "def toNGrams(token, n):\n",
    "    return list(ngrams(token, n))"
   ]
  },
  {
   "cell_type": "markdown",
   "id": "304e9f4e",
   "metadata": {},
   "source": [
    "### Modifying the Data Frames (THIS TAKES FOREVER TRY TO AVOID)"
   ]
  },
  {
   "cell_type": "code",
   "execution_count": 113,
   "id": "fff507c1",
   "metadata": {},
   "outputs": [
    {
     "name": "stdout",
     "output_type": "stream",
     "text": [
      "Unique discourse_id : 36765\n",
      "Unique essay_id : 4191\n",
      "Unique discourse_text : 36691\n",
      "Unique discourse_type : ['Lead' 'Position' 'Claim' 'Evidence' 'Counterclaim' 'Rebuttal'\n",
      " 'Concluding Statement']\n",
      "Unique discourse_effectiveness : ['Adequate' 'Ineffective' 'Effective']\n"
     ]
    }
   ],
   "source": [
    "# test_df = to_df(raw_test_loc)\n",
    "# test_df['words'] = None\n",
    "# test_df['filtered_words'] = None\n",
    "# test_df['stemmed_words'] = None\n",
    "# test_df['word_count'] = None\n",
    "# test_df['pos'] = None\n",
    "# for i in test_df.index:\n",
    "#     text_processed = pre_process(test_df['discourse_text'][i])\n",
    "#     test_df['words'][i] = text_processed[0]\n",
    "#     test_df['filtered_words'][i] = text_processed[1]\n",
    "#     test_df['stemmed_words'][i] = text_processed[2]\n",
    "#     test_df['word_count'][i] = len(text_processed[0])\n",
    "#     test_df['pos'][i] = text_processed[3]"
   ]
  },
  {
   "cell_type": "markdown",
   "id": "ab72d0d5",
   "metadata": {},
   "source": [
    "# Data Analysis"
   ]
  },
  {
   "cell_type": "markdown",
   "id": "81ced64a",
   "metadata": {},
   "source": [
    "### Importing the new Data frame from CSV"
   ]
  },
  {
   "cell_type": "code",
   "execution_count": 360,
   "id": "d7bbb220",
   "metadata": {},
   "outputs": [
    {
     "name": "stdout",
     "output_type": "stream",
     "text": [
      "Unique discourse_id : 36765\n",
      "Unique essay_id : 4191\n",
      "Unique discourse_text : 36691\n",
      "Unique discourse_type : ['Lead' 'Position' 'Claim' 'Evidence' 'Counterclaim' 'Rebuttal'\n",
      " 'Concluding Statement']\n",
      "Unique discourse_effectiveness : ['Adequate' 'Ineffective' 'Effective']\n",
      "Unique words : 36561\n",
      "Unique filtered_words : 36355\n",
      "Unique stemmed_words : 36295\n",
      "Unique word_count : 374\n",
      "Unique pos : 36355\n"
     ]
    }
   ],
   "source": [
    "test_df = to_df(test_loc)"
   ]
  },
  {
   "cell_type": "markdown",
   "id": "110d532e",
   "metadata": {},
   "source": [
    "### Making Data frames for each effectiveness [Effective, Ineffective, Adequate]"
   ]
  },
  {
   "cell_type": "code",
   "execution_count": 385,
   "id": "8c3f2883",
   "metadata": {},
   "outputs": [],
   "source": [
    "effective_df=test_df.loc[test_df['discourse_effectiveness'] == \"Effective\"]\n",
    "ineffective_df = test_df.loc[test_df['discourse_effectiveness'] == \"Ineffective\"]\n",
    "adequate_df = test_df.loc[test_df['discourse_effectiveness'] == \"Adequate\"]\n",
    "\n",
    "evidence_df = test_df.loc[test_df['discourse_type'] == 'Evidence']\n",
    "rebuttal_df = test_df.loc[test_df['discourse_type'] == 'Rebuttal']\n",
    "claim_df = test_df.loc[test_df['discourse_type'] == 'Claim']\n",
    "counterclaim_df = test_df.loc[test_df['discourse_type'] == 'Counterclaim']\n",
    "position_df = test_df.loc[test_df['discourse_type'] == 'Position']\n",
    "lead_df = test_df.loc[test_df['discourse_type'] == 'Lead']\n",
    "concluding_df = test_df.loc[test_df['discourse_type'] == 'Concluding Statement']"
   ]
  },
  {
   "cell_type": "markdown",
   "id": "6e6d8214",
   "metadata": {},
   "source": [
    "### Word count vs Effectiveness.\n",
    "This can be used to see if there is a correlation between the number of words written vs its effectiveness"
   ]
  },
  {
   "cell_type": "code",
   "execution_count": 383,
   "id": "be34e71f",
   "metadata": {},
   "outputs": [
    {
     "data": {
      "text/plain": [
       "discourse_effectiveness\n",
       "Adequate       35.052963\n",
       "Effective      63.239653\n",
       "Ineffective    48.578149\n",
       "Name: word_count, dtype: float64"
      ]
     },
     "execution_count": 383,
     "metadata": {},
     "output_type": "execute_result"
    },
    {
     "data": {
      "image/png": "[encoded data removed]",
      "text/plain": [
       "<Figure size 432x288 with 1 Axes>"
      ]
     },
     "metadata": {
      "needs_background": "light"
     },
     "output_type": "display_data"
    }
   ],
   "source": [
    "sns.barplot(data=test_df, y='word_count', \n",
    "            x= 'discourse_effectiveness',\n",
    "            errorbar=('ci',95),\n",
    "           ).set(title=\"Effetiveness with dicourse_type and word count\")\n",
    "test_df.groupby('discourse_effectiveness').word_count.mean()"
   ]
  },
  {
   "cell_type": "markdown",
   "id": "46c53ca7",
   "metadata": {},
   "source": [
    "# Effectiveness Statistics"
   ]
  },
  {
   "cell_type": "markdown",
   "id": "02652eb5",
   "metadata": {},
   "source": [
    "### Effectiveness Pie Chart"
   ]
  },
  {
   "cell_type": "code",
   "execution_count": 378,
   "id": "a2342516",
   "metadata": {},
   "outputs": [
    {
     "data": {
      "image/png": "[encoded data removed]",
      "text/plain": [
       "<Figure size 432x288 with 1 Axes>"
      ]
     },
     "metadata": {},
     "output_type": "display_data"
    }
   ],
   "source": [
    "series = test_df['discourse_effectiveness'].value_counts()\n",
    "plt.pie(series.values, labels=series.index, colors=sns.color_palette('bright'), autopct='%.0f%%')\n",
    "plt.show()"
   ]
  },
  {
   "cell_type": "markdown",
   "id": "12dd00ab",
   "metadata": {},
   "source": [
    "### Discourse Effectiveness : Effective"
   ]
  },
  {
   "cell_type": "code",
   "execution_count": 380,
   "id": "da040247",
   "metadata": {},
   "outputs": [
    {
     "data": {
      "image/png": "[encoded data removed]",
      "text/plain": [
       "<Figure size 432x288 with 1 Axes>"
      ]
     },
     "metadata": {},
     "output_type": "display_data"
    },
    {
     "name": "stdout",
     "output_type": "stream",
     "text": [
      "Claim                   3405\n",
      "Concluding Statement     825\n",
      "Counterclaim             418\n",
      "Evidence                2885\n",
      "Lead                     683\n",
      "Position                 770\n",
      "Rebuttal                 340\n",
      "Name: discourse_type, dtype: int64\n"
     ]
    }
   ],
   "source": [
    "series = effective_df['discourse_type'].value_counts().sort_index()\n",
    "plt.pie(series.values, labels=series.index, colors=sns.color_palette('bright'), autopct='%.0f%%')\n",
    "plt.show()\n",
    "print(series)"
   ]
  },
  {
   "cell_type": "markdown",
   "id": "3a27abb5",
   "metadata": {},
   "source": [
    "##### Word Count"
   ]
  },
  {
   "cell_type": "code",
   "execution_count": 408,
   "id": "5504450f",
   "metadata": {},
   "outputs": [
    {
     "data": {
      "text/plain": [
       "[Text(0.5, 1.0, 'Word Count vs Discourse_type')]"
      ]
     },
     "execution_count": 408,
     "metadata": {},
     "output_type": "execute_result"
    },
    {
     "data": {
      "image/png": "[encoded data removed]",
      "text/plain": [
       "<Figure size 432x288 with 1 Axes>"
      ]
     },
     "metadata": {
      "needs_background": "light"
     },
     "output_type": "display_data"
    }
   ],
   "source": [
    "sns.barplot(data=effective_df,\n",
    "           y = 'discourse_type',\n",
    "           x ='word_count').set(title=\"Word Count vs Discourse_type\")"
   ]
  },
  {
   "cell_type": "markdown",
   "id": "b9133ae6",
   "metadata": {},
   "source": [
    "### Discourse Effectiveness : Adequate"
   ]
  },
  {
   "cell_type": "code",
   "execution_count": 374,
   "id": "fe7252dd",
   "metadata": {},
   "outputs": [
    {
     "data": {
      "image/png": "[encoded data removed]",
      "text/plain": [
       "<Figure size 432x288 with 1 Axes>"
      ]
     },
     "metadata": {},
     "output_type": "display_data"
    },
    {
     "name": "stdout",
     "output_type": "stream",
     "text": [
      "Claim                   7097\n",
      "Concluding Statement    1945\n",
      "Counterclaim            1150\n",
      "Evidence                6064\n",
      "Lead                    1244\n",
      "Position                2784\n",
      "Rebuttal                 693\n",
      "Name: discourse_type, dtype: int64\n"
     ]
    }
   ],
   "source": [
    "series =adequate_df['discourse_type'].value_counts().sort_index()\n",
    "plt.pie(series.values, labels=series.index, colors=sns.color_palette('bright'), autopct='%.0f%%')\n",
    "plt.show()\n",
    "print(series)"
   ]
  },
  {
   "cell_type": "markdown",
   "id": "adb02a94",
   "metadata": {},
   "source": [
    "##### Word Count"
   ]
  },
  {
   "cell_type": "code",
   "execution_count": 502,
   "id": "afda32bc",
   "metadata": {},
   "outputs": [
    {
     "data": {
      "text/plain": [
       "[Text(0.5, 1.0, 'Word Count vs Discourse_type')]"
      ]
     },
     "execution_count": 502,
     "metadata": {},
     "output_type": "execute_result"
    },
    {
     "data": {
      "image/png": "[encoded data removed]",
      "text/plain": [
       "<Figure size 432x288 with 1 Axes>"
      ]
     },
     "metadata": {
      "needs_background": "light"
     },
     "output_type": "display_data"
    }
   ],
   "source": [
    "sns.barplot(data=adequate_df,\n",
    "           y = 'discourse_type',\n",
    "           x ='word_count').set(title=\"Word Count vs Discourse_type\")"
   ]
  },
  {
   "cell_type": "markdown",
   "id": "7ec725e0",
   "metadata": {},
   "source": [
    "### Discourse Effectiveness : Adequate"
   ]
  },
  {
   "cell_type": "code",
   "execution_count": 379,
   "id": "ffee51bf",
   "metadata": {},
   "outputs": [
    {
     "data": {
      "image/png": "[encoded data removed]",
      "text/plain": [
       "<Figure size 432x288 with 1 Axes>"
      ]
     },
     "metadata": {},
     "output_type": "display_data"
    },
    {
     "name": "stdout",
     "output_type": "stream",
     "text": [
      "Claim                   1475\n",
      "Concluding Statement     581\n",
      "Counterclaim             205\n",
      "Evidence                3156\n",
      "Lead                     364\n",
      "Position                 470\n",
      "Rebuttal                 211\n",
      "Name: discourse_type, dtype: int64\n"
     ]
    }
   ],
   "source": [
    "series =ineffective_df['discourse_type'].value_counts().sort_index()\n",
    "plt.pie(series.values, labels=series.index, colors=sns.color_palette('bright'), autopct='%.0f%%')\n",
    "plt.show()\n",
    "print(series)"
   ]
  },
  {
   "cell_type": "markdown",
   "id": "5c85a928",
   "metadata": {},
   "source": [
    "##### Word Count"
   ]
  },
  {
   "cell_type": "code",
   "execution_count": 412,
   "id": "f6021665",
   "metadata": {},
   "outputs": [
    {
     "data": {
      "text/plain": [
       "[Text(0.5, 1.0, 'Word Count vs Discourse_type')]"
      ]
     },
     "execution_count": 412,
     "metadata": {},
     "output_type": "execute_result"
    },
    {
     "data": {
      "image/png": "[encoded data removed]",
      "text/plain": [
       "<Figure size 432x288 with 1 Axes>"
      ]
     },
     "metadata": {
      "needs_background": "light"
     },
     "output_type": "display_data"
    }
   ],
   "source": [
    "sns.barplot(data=adequate_df,\n",
    "           y = 'discourse_type',\n",
    "           x ='word_count').set(title=\"Word Count vs Discourse_type\")"
   ]
  },
  {
   "cell_type": "markdown",
   "id": "a2c9dc62",
   "metadata": {},
   "source": [
    "# Word Statistics"
   ]
  },
  {
   "cell_type": "code",
   "execution_count": 418,
   "id": "cbd2a45b",
   "metadata": {},
   "outputs": [
    {
     "data": {
      "text/html": [
       "<div>\n",
       "<style scoped>\n",
       "    .dataframe tbody tr th:only-of-type {\n",
       "        vertical-align: middle;\n",
       "    }\n",
       "\n",
       "    .dataframe tbody tr th {\n",
       "        vertical-align: top;\n",
       "    }\n",
       "\n",
       "    .dataframe thead th {\n",
       "        text-align: right;\n",
       "    }\n",
       "</style>\n",
       "<table border=\"1\" class=\"dataframe\">\n",
       "  <thead>\n",
       "    <tr style=\"text-align: right;\">\n",
       "      <th></th>\n",
       "      <th>discourse_id</th>\n",
       "      <th>essay_id</th>\n",
       "      <th>discourse_text</th>\n",
       "      <th>discourse_type</th>\n",
       "      <th>discourse_effectiveness</th>\n",
       "      <th>words</th>\n",
       "      <th>filtered_words</th>\n",
       "      <th>stemmed_words</th>\n",
       "      <th>word_count</th>\n",
       "      <th>pos</th>\n",
       "    </tr>\n",
       "  </thead>\n",
       "  <tbody>\n",
       "    <tr>\n",
       "      <th>0</th>\n",
       "      <td>0013cc385424</td>\n",
       "      <td>007ACE74B050</td>\n",
       "      <td>Hi, i'm Isaac, i'm going to be writing about h...</td>\n",
       "      <td>Lead</td>\n",
       "      <td>Adequate</td>\n",
       "      <td>['hi', 'im', 'isaac', 'im', 'going', 'to', 'be...</td>\n",
       "      <td>['hi', 'im', 'isaac', 'im', 'going', 'writing'...</td>\n",
       "      <td>['hi', 'im', 'isaac', 'im', 'go', 'write', 'fa...</td>\n",
       "      <td>67</td>\n",
       "      <td>[('hi', 'NN'), ('im', 'NN'), ('isaac', 'NN'), ...</td>\n",
       "    </tr>\n",
       "    <tr>\n",
       "      <th>1</th>\n",
       "      <td>9704a709b505</td>\n",
       "      <td>007ACE74B050</td>\n",
       "      <td>On my perspective, I think that the face is a ...</td>\n",
       "      <td>Position</td>\n",
       "      <td>Adequate</td>\n",
       "      <td>['on', 'my', 'perspective', 'i', 'think', 'tha...</td>\n",
       "      <td>['perspective', 'think', 'face', 'natural', 'l...</td>\n",
       "      <td>['perspect', 'think', 'face', 'natur', 'landfo...</td>\n",
       "      <td>41</td>\n",
       "      <td>[('perspective', 'NN'), ('think', 'NN'), ('fac...</td>\n",
       "    </tr>\n",
       "    <tr>\n",
       "      <th>2</th>\n",
       "      <td>c22adee811b6</td>\n",
       "      <td>007ACE74B050</td>\n",
       "      <td>I think that the face is a natural landform be...</td>\n",
       "      <td>Claim</td>\n",
       "      <td>Adequate</td>\n",
       "      <td>['i', 'think', 'that', 'the', 'face', 'is', 'a...</td>\n",
       "      <td>['think', 'face', 'natural', 'landform', 'life...</td>\n",
       "      <td>['think', 'face', 'natur', 'landform', 'life',...</td>\n",
       "      <td>21</td>\n",
       "      <td>[('think', 'VB'), ('face', 'NN'), ('natural', ...</td>\n",
       "    </tr>\n",
       "    <tr>\n",
       "      <th>3</th>\n",
       "      <td>a10d361e54e4</td>\n",
       "      <td>007ACE74B050</td>\n",
       "      <td>If life was on Mars, we would know by now. The...</td>\n",
       "      <td>Evidence</td>\n",
       "      <td>Adequate</td>\n",
       "      <td>['if', 'life', 'was', 'on', 'mars', 'we', 'wou...</td>\n",
       "      <td>['life', 'mars', 'would', 'know', 'reason', 't...</td>\n",
       "      <td>['life', 'mar', 'would', 'know', 'reason', 'th...</td>\n",
       "      <td>72</td>\n",
       "      <td>[('life', 'NN'), ('mars', 'NNS'), ('would', 'M...</td>\n",
       "    </tr>\n",
       "    <tr>\n",
       "      <th>4</th>\n",
       "      <td>db3e453ec4e2</td>\n",
       "      <td>007ACE74B050</td>\n",
       "      <td>People thought that the face was formed by ali...</td>\n",
       "      <td>Counterclaim</td>\n",
       "      <td>Adequate</td>\n",
       "      <td>['people', 'thought', 'that', 'the', 'face', '...</td>\n",
       "      <td>['people', 'thought', 'face', 'formed', 'aliea...</td>\n",
       "      <td>['peopl', 'thought', 'face', 'form', 'aliean',...</td>\n",
       "      <td>18</td>\n",
       "      <td>[('people', 'NNS'), ('thought', 'VBD'), ('face...</td>\n",
       "    </tr>\n",
       "  </tbody>\n",
       "</table>\n",
       "</div>"
      ],
      "text/plain": [
       "   discourse_id      essay_id  \\\n",
       "0  0013cc385424  007ACE74B050   \n",
       "1  9704a709b505  007ACE74B050   \n",
       "2  c22adee811b6  007ACE74B050   \n",
       "3  a10d361e54e4  007ACE74B050   \n",
       "4  db3e453ec4e2  007ACE74B050   \n",
       "\n",
       "                                      discourse_text discourse_type  \\\n",
       "0  Hi, i'm Isaac, i'm going to be writing about h...           Lead   \n",
       "1  On my perspective, I think that the face is a ...       Position   \n",
       "2  I think that the face is a natural landform be...          Claim   \n",
       "3  If life was on Mars, we would know by now. The...       Evidence   \n",
       "4  People thought that the face was formed by ali...   Counterclaim   \n",
       "\n",
       "  discourse_effectiveness                                              words  \\\n",
       "0                Adequate  ['hi', 'im', 'isaac', 'im', 'going', 'to', 'be...   \n",
       "1                Adequate  ['on', 'my', 'perspective', 'i', 'think', 'tha...   \n",
       "2                Adequate  ['i', 'think', 'that', 'the', 'face', 'is', 'a...   \n",
       "3                Adequate  ['if', 'life', 'was', 'on', 'mars', 'we', 'wou...   \n",
       "4                Adequate  ['people', 'thought', 'that', 'the', 'face', '...   \n",
       "\n",
       "                                      filtered_words  \\\n",
       "0  ['hi', 'im', 'isaac', 'im', 'going', 'writing'...   \n",
       "1  ['perspective', 'think', 'face', 'natural', 'l...   \n",
       "2  ['think', 'face', 'natural', 'landform', 'life...   \n",
       "3  ['life', 'mars', 'would', 'know', 'reason', 't...   \n",
       "4  ['people', 'thought', 'face', 'formed', 'aliea...   \n",
       "\n",
       "                                       stemmed_words  word_count  \\\n",
       "0  ['hi', 'im', 'isaac', 'im', 'go', 'write', 'fa...          67   \n",
       "1  ['perspect', 'think', 'face', 'natur', 'landfo...          41   \n",
       "2  ['think', 'face', 'natur', 'landform', 'life',...          21   \n",
       "3  ['life', 'mar', 'would', 'know', 'reason', 'th...          72   \n",
       "4  ['peopl', 'thought', 'face', 'form', 'aliean',...          18   \n",
       "\n",
       "                                                 pos  \n",
       "0  [('hi', 'NN'), ('im', 'NN'), ('isaac', 'NN'), ...  \n",
       "1  [('perspective', 'NN'), ('think', 'NN'), ('fac...  \n",
       "2  [('think', 'VB'), ('face', 'NN'), ('natural', ...  \n",
       "3  [('life', 'NN'), ('mars', 'NNS'), ('would', 'M...  \n",
       "4  [('people', 'NNS'), ('thought', 'VBD'), ('face...  "
      ]
     },
     "execution_count": 418,
     "metadata": {},
     "output_type": "execute_result"
    }
   ],
   "source": [
    "test_df.head()"
   ]
  },
  {
   "cell_type": "code",
   "execution_count": null,
   "id": "f989f04e",
   "metadata": {},
   "outputs": [],
   "source": []
  },
  {
   "cell_type": "code",
   "execution_count": null,
   "id": "f295ee59",
   "metadata": {},
   "outputs": [],
   "source": []
  },
  {
   "cell_type": "code",
   "execution_count": null,
   "id": "f513e4a1",
   "metadata": {},
   "outputs": [],
   "source": []
  }
 ],
 "metadata": {
  "kernelspec": {
   "display_name": "Python 3 (ipykernel)",
   "language": "python",
   "name": "python3"
  },
  "language_info": {
   "codemirror_mode": {
    "name": "ipython",
    "version": 3
   },
   "file_extension": ".py",
   "mimetype": "text/x-python",
   "name": "python",
   "nbconvert_exporter": "python",
   "pygments_lexer": "ipython3",
   "version": "3.10.2"
  }
 },
 "nbformat": 4,
 "nbformat_minor": 5
}
