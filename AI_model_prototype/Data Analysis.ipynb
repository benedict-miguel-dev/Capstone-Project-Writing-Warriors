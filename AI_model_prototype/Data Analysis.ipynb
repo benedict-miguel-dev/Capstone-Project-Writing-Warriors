{
 "cells": [
  {
   "cell_type": "markdown",
   "id": "e2cfd1e0",
   "metadata": {},
   "source": [
    "\n",
    "# Basic Natural Language Processing and Modifying .csv files"
   ]
  },
  {
   "cell_type": "markdown",
   "id": "7785f008",
   "metadata": {},
   "source": [
    "### Importing Libraries"
   ]
  },
  {
   "cell_type": "code",
   "execution_count": 38,
   "id": "0ccc79ad",
   "metadata": {},
   "outputs": [],
   "source": [
    "import pandas as pd\n",
    "import nltk\n",
    "import string\n",
    "import seaborn as sns\n",
    "from nltk import word_tokenize\n",
    "from nltk.corpus import stopwords\n",
    "from nltk.stem.porter import PorterStemmer\n",
    "from nltk import pos_tag\n",
    "from nltk.util import ngrams\n",
    "import matplotlib.pyplot as plt\n",
    "from collections import Counter\n",
    "from ast import literal_eval\n",
    "from textblob import TextBlob\n",
    "from matplotlib_venn import venn2, venn2_circles, venn2_unweighted\n",
    "from matplotlib_venn import venn3, venn3_circles\n",
    "from matplotlib import pyplot as plt\n",
    "%matplotlib inline\n",
    "from sklearn.neighbors import NearestNeighbors\n",
    "from sklearn import preprocessing"
   ]
  },
  {
   "cell_type": "markdown",
   "id": "1e1db136",
   "metadata": {},
   "source": [
    "### Importing Data resources"
   ]
  },
  {
   "cell_type": "code",
   "execution_count": 11,
   "id": "cece238d",
   "metadata": {},
   "outputs": [],
   "source": [
    "raw_test_loc = \"./resource_data/train.csv\"\n",
    "test_loc = \"./modified_resources_data/test_df.csv\""
   ]
  },
  {
   "cell_type": "markdown",
   "id": "ba575c9d",
   "metadata": {},
   "source": [
    "### Converting to Python Objects"
   ]
  },
  {
   "cell_type": "code",
   "execution_count": 12,
   "id": "d7d8ccc7",
   "metadata": {},
   "outputs": [],
   "source": [
    "def to_df(filepath):\n",
    "    df = pd.read_csv(filepath).dropna()\n",
    "    cols = df.columns\n",
    "    col_dict= {}\n",
    "    for i in cols:\n",
    "        col_dict[i] = df[i].unique()\n",
    "    for i in col_dict.keys():\n",
    "        print(\"Unique\", i ,\":\", end= \" \")\n",
    "        if (len(col_dict[i]) < 10):\n",
    "            print( col_dict[i])\n",
    "        else:\n",
    "            print(len(col_dict[i]))\n",
    "    return df"
   ]
  },
  {
   "cell_type": "markdown",
   "id": "0e60ac9e",
   "metadata": {},
   "source": [
    "### Preprocessing with NLTK"
   ]
  },
  {
   "cell_type": "code",
   "execution_count": 13,
   "id": "bf2a662e",
   "metadata": {},
   "outputs": [],
   "source": [
    "def pre_process(text):\n",
    "#   Lower Texts\n",
    "    text = text.lower()\n",
    "#   Remove Punctuation\n",
    "    text_p = \"\".join([char for char in text if char not in string.punctuation])\n",
    "#   Tokenize\n",
    "    words = word_tokenize(text_p)\n",
    "#   Stopword Filtering\n",
    "    stop_words = stopwords.words('english')\n",
    "    filtered_words = [word for word in words if word not in stop_words]\n",
    "#   Stemming \n",
    "    porter = PorterStemmer()\n",
    "    stemmed = [porter.stem(word) for word in filtered_words]\n",
    "#   Part of Speech Token\n",
    "    pos = pos_tag(filtered_words)\n",
    "    return [words, filtered_words, stemmed, pos]\n",
    "def toNGrams(token, n):\n",
    "    return list(ngrams(token, n))\n",
    "def get_sentiment_objectivity(text):\n",
    "    return TextBlob(text)"
   ]
  },
  {
   "cell_type": "markdown",
   "id": "304e9f4e",
   "metadata": {},
   "source": [
    "### Modifying the Data Frames (THIS TAKES FOREVER TRY TO AVOID)"
   ]
  },
  {
   "cell_type": "code",
   "execution_count": 14,
   "id": "fff507c1",
   "metadata": {},
   "outputs": [],
   "source": [
    "# test_df = to_df(raw_test_loc)\n",
    "# test_df['words'] = None\n",
    "# test_df['filtered_words'] = None\n",
    "# test_df['stemmed_words'] = None\n",
    "# test_df['word_count'] = None\n",
    "# test_df['pos'] = None\n",
    "# test_df['polarity'] = None\n",
    "# test_df['subjectivity'] = None\n",
    "# for i in test_df.index:\n",
    "#     text_processed = pre_process(test_df['discourse_text'][i])\n",
    "#     s_o = get_sentiment_objectivity(test_df['discourse_text'][i]).sentiment\n",
    "#     test_df['words'][i] = text_processed[0]\n",
    "#     test_df['filtered_words'][i] = text_processed[1]\n",
    "#     test_df['stemmed_words'][i] = text_processed[2]\n",
    "#     test_df['word_count'][i] = len(text_processed[0])\n",
    "#     test_df['polarity'][i] = s_o[0]\n",
    "#     test_df['subjectivity'][i] = s_o[1]  \n",
    "#     test_df['pos'][i] = text_processed[3]\n",
    "# test_df.to_csv(test_loc)"
   ]
  },
  {
   "cell_type": "markdown",
   "id": "ab72d0d5",
   "metadata": {},
   "source": [
    "# Data Analysis"
   ]
  },
  {
   "cell_type": "markdown",
   "id": "81ced64a",
   "metadata": {},
   "source": [
    "### Importing the new Data frame from CSV"
   ]
  },
  {
   "cell_type": "code",
   "execution_count": 15,
   "id": "d7bbb220",
   "metadata": {},
   "outputs": [
    {
     "name": "stdout",
     "output_type": "stream",
     "text": [
      "Unique Unnamed: 0 : 36765\n",
      "Unique discourse_id : 36765\n",
      "Unique essay_id : 4191\n",
      "Unique discourse_text : 36691\n",
      "Unique discourse_type : ['Lead' 'Position' 'Claim' 'Evidence' 'Counterclaim' 'Rebuttal'\n",
      " 'Concluding Statement']\n",
      "Unique discourse_effectiveness : ['Adequate' 'Ineffective' 'Effective']\n",
      "Unique words : 36561\n",
      "Unique filtered_words : 36355\n",
      "Unique stemmed_words : 36295\n",
      "Unique word_count : 374\n",
      "Unique pos : 36355\n",
      "Unique polarity : 6727\n",
      "Unique subjectivity : 6968\n"
     ]
    },
    {
     "data": {
      "text/html": [
       "<div>\n",
       "<style scoped>\n",
       "    .dataframe tbody tr th:only-of-type {\n",
       "        vertical-align: middle;\n",
       "    }\n",
       "\n",
       "    .dataframe tbody tr th {\n",
       "        vertical-align: top;\n",
       "    }\n",
       "\n",
       "    .dataframe thead th {\n",
       "        text-align: right;\n",
       "    }\n",
       "</style>\n",
       "<table border=\"1\" class=\"dataframe\">\n",
       "  <thead>\n",
       "    <tr style=\"text-align: right;\">\n",
       "      <th></th>\n",
       "      <th>Unnamed: 0</th>\n",
       "      <th>discourse_id</th>\n",
       "      <th>essay_id</th>\n",
       "      <th>discourse_text</th>\n",
       "      <th>discourse_type</th>\n",
       "      <th>discourse_effectiveness</th>\n",
       "      <th>words</th>\n",
       "      <th>filtered_words</th>\n",
       "      <th>stemmed_words</th>\n",
       "      <th>word_count</th>\n",
       "      <th>pos</th>\n",
       "      <th>polarity</th>\n",
       "      <th>subjectivity</th>\n",
       "    </tr>\n",
       "  </thead>\n",
       "  <tbody>\n",
       "    <tr>\n",
       "      <th>0</th>\n",
       "      <td>0</td>\n",
       "      <td>0013cc385424</td>\n",
       "      <td>007ACE74B050</td>\n",
       "      <td>Hi, i'm Isaac, i'm going to be writing about h...</td>\n",
       "      <td>Lead</td>\n",
       "      <td>Adequate</td>\n",
       "      <td>[hi, im, isaac, im, going, to, be, writing, ab...</td>\n",
       "      <td>[hi, im, isaac, im, going, writing, face, mars...</td>\n",
       "      <td>[hi, im, isaac, im, go, write, face, mar, natu...</td>\n",
       "      <td>67</td>\n",
       "      <td>[(hi, NN), (im, NN), (isaac, NN), (im, NN), (g...</td>\n",
       "      <td>0.100000</td>\n",
       "      <td>0.400000</td>\n",
       "    </tr>\n",
       "    <tr>\n",
       "      <th>1</th>\n",
       "      <td>1</td>\n",
       "      <td>9704a709b505</td>\n",
       "      <td>007ACE74B050</td>\n",
       "      <td>On my perspective, I think that the face is a ...</td>\n",
       "      <td>Position</td>\n",
       "      <td>Adequate</td>\n",
       "      <td>[on, my, perspective, i, think, that, the, fac...</td>\n",
       "      <td>[perspective, think, face, natural, landform, ...</td>\n",
       "      <td>[perspect, think, face, natur, landform, dont,...</td>\n",
       "      <td>41</td>\n",
       "      <td>[(perspective, NN), (think, NN), (face, NN), (...</td>\n",
       "      <td>0.000000</td>\n",
       "      <td>0.225000</td>\n",
       "    </tr>\n",
       "    <tr>\n",
       "      <th>2</th>\n",
       "      <td>2</td>\n",
       "      <td>c22adee811b6</td>\n",
       "      <td>007ACE74B050</td>\n",
       "      <td>I think that the face is a natural landform be...</td>\n",
       "      <td>Claim</td>\n",
       "      <td>Adequate</td>\n",
       "      <td>[i, think, that, the, face, is, a, natural, la...</td>\n",
       "      <td>[think, face, natural, landform, life, mars, d...</td>\n",
       "      <td>[think, face, natur, landform, life, mar, desc...</td>\n",
       "      <td>21</td>\n",
       "      <td>[(think, VB), (face, NN), (natural, JJ), (land...</td>\n",
       "      <td>0.100000</td>\n",
       "      <td>0.400000</td>\n",
       "    </tr>\n",
       "    <tr>\n",
       "      <th>3</th>\n",
       "      <td>3</td>\n",
       "      <td>a10d361e54e4</td>\n",
       "      <td>007ACE74B050</td>\n",
       "      <td>If life was on Mars, we would know by now. The...</td>\n",
       "      <td>Evidence</td>\n",
       "      <td>Adequate</td>\n",
       "      <td>[if, life, was, on, mars, we, would, know, by,...</td>\n",
       "      <td>[life, mars, would, know, reason, think, natur...</td>\n",
       "      <td>[life, mar, would, know, reason, think, natur,...</td>\n",
       "      <td>72</td>\n",
       "      <td>[(life, NN), (mars, NNS), (would, MD), (know, ...</td>\n",
       "      <td>0.000505</td>\n",
       "      <td>0.561111</td>\n",
       "    </tr>\n",
       "    <tr>\n",
       "      <th>4</th>\n",
       "      <td>4</td>\n",
       "      <td>db3e453ec4e2</td>\n",
       "      <td>007ACE74B050</td>\n",
       "      <td>People thought that the face was formed by ali...</td>\n",
       "      <td>Counterclaim</td>\n",
       "      <td>Adequate</td>\n",
       "      <td>[people, thought, that, the, face, was, formed...</td>\n",
       "      <td>[people, thought, face, formed, alieans, thoug...</td>\n",
       "      <td>[peopl, thought, face, form, aliean, thought, ...</td>\n",
       "      <td>18</td>\n",
       "      <td>[(people, NNS), (thought, VBD), (face, NN), (f...</td>\n",
       "      <td>0.000000</td>\n",
       "      <td>0.000000</td>\n",
       "    </tr>\n",
       "    <tr>\n",
       "      <th>...</th>\n",
       "      <td>...</td>\n",
       "      <td>...</td>\n",
       "      <td>...</td>\n",
       "      <td>...</td>\n",
       "      <td>...</td>\n",
       "      <td>...</td>\n",
       "      <td>...</td>\n",
       "      <td>...</td>\n",
       "      <td>...</td>\n",
       "      <td>...</td>\n",
       "      <td>...</td>\n",
       "      <td>...</td>\n",
       "      <td>...</td>\n",
       "    </tr>\n",
       "    <tr>\n",
       "      <th>36760</th>\n",
       "      <td>36760</td>\n",
       "      <td>9f63b687e76a</td>\n",
       "      <td>FFA381E58FC6</td>\n",
       "      <td>For many people they don't like only asking on...</td>\n",
       "      <td>Claim</td>\n",
       "      <td>Adequate</td>\n",
       "      <td>[for, many, people, they, dont, like, only, as...</td>\n",
       "      <td>[many, people, dont, like, asking, one, person...</td>\n",
       "      <td>[mani, peopl, dont, like, ask, one, person, ad...</td>\n",
       "      <td>21</td>\n",
       "      <td>[(many, JJ), (people, NNS), (dont, VBP), (like...</td>\n",
       "      <td>0.333333</td>\n",
       "      <td>0.666667</td>\n",
       "    </tr>\n",
       "    <tr>\n",
       "      <th>36761</th>\n",
       "      <td>36761</td>\n",
       "      <td>9d5bd7d86212</td>\n",
       "      <td>FFA381E58FC6</td>\n",
       "      <td>also people have different views and opinions ...</td>\n",
       "      <td>Claim</td>\n",
       "      <td>Adequate</td>\n",
       "      <td>[also, people, have, different, views, and, op...</td>\n",
       "      <td>[also, people, different, views, opinions, thi...</td>\n",
       "      <td>[also, peopl, differ, view, opinion, thing]</td>\n",
       "      <td>9</td>\n",
       "      <td>[(also, RB), (people, NNS), (different, JJ), (...</td>\n",
       "      <td>0.000000</td>\n",
       "      <td>0.600000</td>\n",
       "    </tr>\n",
       "    <tr>\n",
       "      <th>36762</th>\n",
       "      <td>36762</td>\n",
       "      <td>f1b78becd573</td>\n",
       "      <td>FFA381E58FC6</td>\n",
       "      <td>Advice is something that can impact a persons ...</td>\n",
       "      <td>Position</td>\n",
       "      <td>Adequate</td>\n",
       "      <td>[advice, is, something, that, can, impact, a, ...</td>\n",
       "      <td>[advice, something, impact, persons, view, man...</td>\n",
       "      <td>[advic, someth, impact, person, view, mani, wa...</td>\n",
       "      <td>23</td>\n",
       "      <td>[(advice, NN), (something, NN), (impact, JJ), ...</td>\n",
       "      <td>0.500000</td>\n",
       "      <td>0.500000</td>\n",
       "    </tr>\n",
       "    <tr>\n",
       "      <th>36763</th>\n",
       "      <td>36763</td>\n",
       "      <td>cc184624ca8e</td>\n",
       "      <td>FFA381E58FC6</td>\n",
       "      <td>someone can use everything that many people sa...</td>\n",
       "      <td>Evidence</td>\n",
       "      <td>Ineffective</td>\n",
       "      <td>[someone, can, use, everything, that, many, pe...</td>\n",
       "      <td>[someone, use, everything, many, people, said,...</td>\n",
       "      <td>[someon, use, everyth, mani, peopl, said, use,...</td>\n",
       "      <td>82</td>\n",
       "      <td>[(someone, NN), (use, NN), (everything, NN), (...</td>\n",
       "      <td>0.410714</td>\n",
       "      <td>0.496429</td>\n",
       "    </tr>\n",
       "    <tr>\n",
       "      <th>36764</th>\n",
       "      <td>36764</td>\n",
       "      <td>c8a973681feb</td>\n",
       "      <td>FFA381E58FC6</td>\n",
       "      <td>In conclusion asking for an opinion can be ben...</td>\n",
       "      <td>Concluding Statement</td>\n",
       "      <td>Ineffective</td>\n",
       "      <td>[in, conclusion, asking, for, an, opinion, can...</td>\n",
       "      <td>[conclusion, asking, opinion, beneficial, some...</td>\n",
       "      <td>[conclus, ask, opinion, benefici, someon]</td>\n",
       "      <td>11</td>\n",
       "      <td>[(conclusion, NN), (asking, VBG), (opinion, NN...</td>\n",
       "      <td>0.000000</td>\n",
       "      <td>0.000000</td>\n",
       "    </tr>\n",
       "  </tbody>\n",
       "</table>\n",
       "<p>36765 rows × 13 columns</p>\n",
       "</div>"
      ],
      "text/plain": [
       "       Unnamed: 0  discourse_id      essay_id  \\\n",
       "0               0  0013cc385424  007ACE74B050   \n",
       "1               1  9704a709b505  007ACE74B050   \n",
       "2               2  c22adee811b6  007ACE74B050   \n",
       "3               3  a10d361e54e4  007ACE74B050   \n",
       "4               4  db3e453ec4e2  007ACE74B050   \n",
       "...           ...           ...           ...   \n",
       "36760       36760  9f63b687e76a  FFA381E58FC6   \n",
       "36761       36761  9d5bd7d86212  FFA381E58FC6   \n",
       "36762       36762  f1b78becd573  FFA381E58FC6   \n",
       "36763       36763  cc184624ca8e  FFA381E58FC6   \n",
       "36764       36764  c8a973681feb  FFA381E58FC6   \n",
       "\n",
       "                                          discourse_text  \\\n",
       "0      Hi, i'm Isaac, i'm going to be writing about h...   \n",
       "1      On my perspective, I think that the face is a ...   \n",
       "2      I think that the face is a natural landform be...   \n",
       "3      If life was on Mars, we would know by now. The...   \n",
       "4      People thought that the face was formed by ali...   \n",
       "...                                                  ...   \n",
       "36760  For many people they don't like only asking on...   \n",
       "36761  also people have different views and opinions ...   \n",
       "36762  Advice is something that can impact a persons ...   \n",
       "36763  someone can use everything that many people sa...   \n",
       "36764  In conclusion asking for an opinion can be ben...   \n",
       "\n",
       "             discourse_type discourse_effectiveness  \\\n",
       "0                      Lead                Adequate   \n",
       "1                  Position                Adequate   \n",
       "2                     Claim                Adequate   \n",
       "3                  Evidence                Adequate   \n",
       "4              Counterclaim                Adequate   \n",
       "...                     ...                     ...   \n",
       "36760                 Claim                Adequate   \n",
       "36761                 Claim                Adequate   \n",
       "36762              Position                Adequate   \n",
       "36763              Evidence             Ineffective   \n",
       "36764  Concluding Statement             Ineffective   \n",
       "\n",
       "                                                   words  \\\n",
       "0      [hi, im, isaac, im, going, to, be, writing, ab...   \n",
       "1      [on, my, perspective, i, think, that, the, fac...   \n",
       "2      [i, think, that, the, face, is, a, natural, la...   \n",
       "3      [if, life, was, on, mars, we, would, know, by,...   \n",
       "4      [people, thought, that, the, face, was, formed...   \n",
       "...                                                  ...   \n",
       "36760  [for, many, people, they, dont, like, only, as...   \n",
       "36761  [also, people, have, different, views, and, op...   \n",
       "36762  [advice, is, something, that, can, impact, a, ...   \n",
       "36763  [someone, can, use, everything, that, many, pe...   \n",
       "36764  [in, conclusion, asking, for, an, opinion, can...   \n",
       "\n",
       "                                          filtered_words  \\\n",
       "0      [hi, im, isaac, im, going, writing, face, mars...   \n",
       "1      [perspective, think, face, natural, landform, ...   \n",
       "2      [think, face, natural, landform, life, mars, d...   \n",
       "3      [life, mars, would, know, reason, think, natur...   \n",
       "4      [people, thought, face, formed, alieans, thoug...   \n",
       "...                                                  ...   \n",
       "36760  [many, people, dont, like, asking, one, person...   \n",
       "36761  [also, people, different, views, opinions, thi...   \n",
       "36762  [advice, something, impact, persons, view, man...   \n",
       "36763  [someone, use, everything, many, people, said,...   \n",
       "36764  [conclusion, asking, opinion, beneficial, some...   \n",
       "\n",
       "                                           stemmed_words  word_count  \\\n",
       "0      [hi, im, isaac, im, go, write, face, mar, natu...          67   \n",
       "1      [perspect, think, face, natur, landform, dont,...          41   \n",
       "2      [think, face, natur, landform, life, mar, desc...          21   \n",
       "3      [life, mar, would, know, reason, think, natur,...          72   \n",
       "4      [peopl, thought, face, form, aliean, thought, ...          18   \n",
       "...                                                  ...         ...   \n",
       "36760  [mani, peopl, dont, like, ask, one, person, ad...          21   \n",
       "36761        [also, peopl, differ, view, opinion, thing]           9   \n",
       "36762  [advic, someth, impact, person, view, mani, wa...          23   \n",
       "36763  [someon, use, everyth, mani, peopl, said, use,...          82   \n",
       "36764          [conclus, ask, opinion, benefici, someon]          11   \n",
       "\n",
       "                                                     pos  polarity  \\\n",
       "0      [(hi, NN), (im, NN), (isaac, NN), (im, NN), (g...  0.100000   \n",
       "1      [(perspective, NN), (think, NN), (face, NN), (...  0.000000   \n",
       "2      [(think, VB), (face, NN), (natural, JJ), (land...  0.100000   \n",
       "3      [(life, NN), (mars, NNS), (would, MD), (know, ...  0.000505   \n",
       "4      [(people, NNS), (thought, VBD), (face, NN), (f...  0.000000   \n",
       "...                                                  ...       ...   \n",
       "36760  [(many, JJ), (people, NNS), (dont, VBP), (like...  0.333333   \n",
       "36761  [(also, RB), (people, NNS), (different, JJ), (...  0.000000   \n",
       "36762  [(advice, NN), (something, NN), (impact, JJ), ...  0.500000   \n",
       "36763  [(someone, NN), (use, NN), (everything, NN), (...  0.410714   \n",
       "36764  [(conclusion, NN), (asking, VBG), (opinion, NN...  0.000000   \n",
       "\n",
       "       subjectivity  \n",
       "0          0.400000  \n",
       "1          0.225000  \n",
       "2          0.400000  \n",
       "3          0.561111  \n",
       "4          0.000000  \n",
       "...             ...  \n",
       "36760      0.666667  \n",
       "36761      0.600000  \n",
       "36762      0.500000  \n",
       "36763      0.496429  \n",
       "36764      0.000000  \n",
       "\n",
       "[36765 rows x 13 columns]"
      ]
     },
     "execution_count": 15,
     "metadata": {},
     "output_type": "execute_result"
    }
   ],
   "source": [
    "test_df = to_df(test_loc)\n",
    "test_df.words = test_df.words.apply(literal_eval)\n",
    "test_df.filtered_words = test_df.filtered_words.apply(literal_eval)\n",
    "test_df.stemmed_words = test_df.stemmed_words.apply(literal_eval)\n",
    "test_df.pos = test_df.pos.apply(literal_eval)\n",
    "test_df"
   ]
  },
  {
   "cell_type": "markdown",
   "id": "f7d15bfe",
   "metadata": {},
   "source": [
    "### Functions"
   ]
  },
  {
   "cell_type": "code",
   "execution_count": 16,
   "id": "acf3ae0a",
   "metadata": {},
   "outputs": [
    {
     "data": {
      "text/html": [
       "<div>\n",
       "<style scoped>\n",
       "    .dataframe tbody tr th:only-of-type {\n",
       "        vertical-align: middle;\n",
       "    }\n",
       "\n",
       "    .dataframe tbody tr th {\n",
       "        vertical-align: top;\n",
       "    }\n",
       "\n",
       "    .dataframe thead th {\n",
       "        text-align: right;\n",
       "    }\n",
       "</style>\n",
       "<table border=\"1\" class=\"dataframe\">\n",
       "  <thead>\n",
       "    <tr style=\"text-align: right;\">\n",
       "      <th></th>\n",
       "      <th>word</th>\n",
       "      <th>count</th>\n",
       "      <th>discourse_type</th>\n",
       "      <th>discourse_effectiveness</th>\n",
       "    </tr>\n",
       "  </thead>\n",
       "  <tbody>\n",
       "    <tr>\n",
       "      <th>391</th>\n",
       "      <td>students</td>\n",
       "      <td>12520</td>\n",
       "      <td>Claim</td>\n",
       "      <td>Adequate</td>\n",
       "    </tr>\n",
       "    <tr>\n",
       "      <th>29</th>\n",
       "      <td>would</td>\n",
       "      <td>10623</td>\n",
       "      <td>Evidence</td>\n",
       "      <td>Adequate</td>\n",
       "    </tr>\n",
       "    <tr>\n",
       "      <th>46</th>\n",
       "      <td>people</td>\n",
       "      <td>10415</td>\n",
       "      <td>Claim</td>\n",
       "      <td>Effective</td>\n",
       "    </tr>\n",
       "    <tr>\n",
       "      <th>300</th>\n",
       "      <td>school</td>\n",
       "      <td>7185</td>\n",
       "      <td>Claim</td>\n",
       "      <td>Effective</td>\n",
       "    </tr>\n",
       "    <tr>\n",
       "      <th>19455</th>\n",
       "      <td>electoral</td>\n",
       "      <td>7076</td>\n",
       "      <td>Concluding Statement</td>\n",
       "      <td>Adequate</td>\n",
       "    </tr>\n",
       "    <tr>\n",
       "      <th>...</th>\n",
       "      <td>...</td>\n",
       "      <td>...</td>\n",
       "      <td>...</td>\n",
       "      <td>...</td>\n",
       "    </tr>\n",
       "    <tr>\n",
       "      <th>16472</th>\n",
       "      <td>gron</td>\n",
       "      <td>1</td>\n",
       "      <td>Claim</td>\n",
       "      <td>Adequate</td>\n",
       "    </tr>\n",
       "    <tr>\n",
       "      <th>16471</th>\n",
       "      <td>horuses</td>\n",
       "      <td>1</td>\n",
       "      <td>Evidence</td>\n",
       "      <td>Adequate</td>\n",
       "    </tr>\n",
       "    <tr>\n",
       "      <th>16470</th>\n",
       "      <td>roff</td>\n",
       "      <td>1</td>\n",
       "      <td>Claim</td>\n",
       "      <td>Adequate</td>\n",
       "    </tr>\n",
       "    <tr>\n",
       "      <th>16469</th>\n",
       "      <td>contestes</td>\n",
       "      <td>1</td>\n",
       "      <td>Rebuttal</td>\n",
       "      <td>Adequate</td>\n",
       "    </tr>\n",
       "    <tr>\n",
       "      <th>30635</th>\n",
       "      <td>protrude</td>\n",
       "      <td>1</td>\n",
       "      <td>Claim</td>\n",
       "      <td>Effective</td>\n",
       "    </tr>\n",
       "  </tbody>\n",
       "</table>\n",
       "<p>30636 rows × 4 columns</p>\n",
       "</div>"
      ],
      "text/plain": [
       "            word  count        discourse_type discourse_effectiveness\n",
       "391     students  12520                 Claim                Adequate\n",
       "29         would  10623              Evidence                Adequate\n",
       "46        people  10415                 Claim               Effective\n",
       "300       school   7185                 Claim               Effective\n",
       "19455  electoral   7076  Concluding Statement                Adequate\n",
       "...          ...    ...                   ...                     ...\n",
       "16472       gron      1                 Claim                Adequate\n",
       "16471    horuses      1              Evidence                Adequate\n",
       "16470       roff      1                 Claim                Adequate\n",
       "16469  contestes      1              Rebuttal                Adequate\n",
       "30635   protrude      1                 Claim               Effective\n",
       "\n",
       "[30636 rows x 4 columns]"
      ]
     },
     "execution_count": 16,
     "metadata": {},
     "output_type": "execute_result"
    }
   ],
   "source": [
    "def word_count(df):\n",
    "    words_dict = {}\n",
    "    discourse_type= []\n",
    "    discourse_effectiveness = []\n",
    "    for i in df.index:\n",
    "        for word in df['filtered_words'][i]:\n",
    "            if word in words_dict.keys():\n",
    "                words_dict[word] = words_dict[word]+1\n",
    "            else:\n",
    "                words_dict[word] = 1\n",
    "        discourse_type.append(df['discourse_type'][i])\n",
    "        discourse_effectiveness.append(df['discourse_effectiveness'][i])\n",
    "    word_df = pd.DataFrame(list(zip(words_dict.keys(), words_dict.values(), discourse_type, discourse_effectiveness)),columns=['word', 'count','discourse_type','discourse_effectiveness'])\n",
    "    word_df=word_df.sort_values(by=['count'], ascending=False)\n",
    "    return word_df\n",
    "word_df = word_count(test_df)\n",
    "word_df"
   ]
  },
  {
   "cell_type": "markdown",
   "id": "110d532e",
   "metadata": {},
   "source": [
    "### Making Data frames for each effectiveness [Effective, Ineffective, Adequate]"
   ]
  },
  {
   "cell_type": "code",
   "execution_count": 17,
   "id": "8c3f2883",
   "metadata": {},
   "outputs": [],
   "source": [
    "effective_df=test_df.loc[test_df['discourse_effectiveness'] == \"Effective\"]\n",
    "ineffective_df = test_df.loc[test_df['discourse_effectiveness'] == \"Ineffective\"]\n",
    "adequate_df = test_df.loc[test_df['discourse_effectiveness'] == \"Adequate\"]\n",
    "\n",
    "evidence_df = test_df.loc[test_df['discourse_type'] == 'Evidence']\n",
    "rebuttal_df = test_df.loc[test_df['discourse_type'] == 'Rebuttal']\n",
    "claim_df = test_df.loc[test_df['discourse_type'] == 'Claim']\n",
    "counterclaim_df = test_df.loc[test_df['discourse_type'] == 'Counterclaim']\n",
    "position_df = test_df.loc[test_df['discourse_type'] == 'Position']\n",
    "lead_df = test_df.loc[test_df['discourse_type'] == 'Lead']\n",
    "concluding_df = test_df.loc[test_df['discourse_type'] == 'Concluding Statement']"
   ]
  },
  {
   "cell_type": "markdown",
   "id": "6e6d8214",
   "metadata": {},
   "source": [
    "### Word count vs Effectiveness.\n",
    "This can be used to see if there is a correlation between the number of words written vs its effectiveness"
   ]
  },
  {
   "cell_type": "code",
   "execution_count": 18,
   "id": "be34e71f",
   "metadata": {
    "scrolled": false
   },
   "outputs": [
    {
     "data": {
      "text/plain": [
       "discourse_effectiveness\n",
       "Adequate       35.052963\n",
       "Effective      63.239653\n",
       "Ineffective    48.578149\n",
       "Name: word_count, dtype: float64"
      ]
     },
     "execution_count": 18,
     "metadata": {},
     "output_type": "execute_result"
    },
    {
     "data": {
      "image/png": "[encoded data removed]",
      "text/plain": [
       "<Figure size 432x288 with 1 Axes>"
      ]
     },
     "metadata": {
      "needs_background": "light"
     },
     "output_type": "display_data"
    }
   ],
   "source": [
    "sns.barplot(data=test_df, y='word_count', \n",
    "            x= 'discourse_effectiveness',\n",
    "            errorbar=('ci',95),\n",
    "           ).set(title=\"Effetiveness with dicourse_type and word count\")\n",
    "test_df.groupby('discourse_effectiveness').word_count.mean()"
   ]
  },
  {
   "cell_type": "markdown",
   "id": "4910ee88",
   "metadata": {},
   "source": [
    "### Polarity vs Effectiveness"
   ]
  },
  {
   "cell_type": "code",
   "execution_count": 19,
   "id": "7b3c0934",
   "metadata": {
    "scrolled": true
   },
   "outputs": [
    {
     "data": {
      "text/plain": [
       "discourse_effectiveness\n",
       "Adequate       0.138484\n",
       "Effective      0.154103\n",
       "Ineffective    0.135989\n",
       "Name: polarity, dtype: float64"
      ]
     },
     "execution_count": 19,
     "metadata": {},
     "output_type": "execute_result"
    },
    {
     "data": {
      "image/png": "[encoded data removed]",
      "text/plain": [
       "<Figure size 432x288 with 1 Axes>"
      ]
     },
     "metadata": {
      "needs_background": "light"
     },
     "output_type": "display_data"
    }
   ],
   "source": [
    "sns.barplot(data=test_df, y='polarity', \n",
    "            x= 'discourse_effectiveness',\n",
    "            errorbar=('ci',95),\n",
    "           ).set(title=\"Effetiveness with dicourse_type and word count\")\n",
    "test_df.groupby('discourse_effectiveness').polarity.mean()"
   ]
  },
  {
   "cell_type": "markdown",
   "id": "12b831ec",
   "metadata": {},
   "source": [
    "### Subjectivity vs Effectiveness"
   ]
  },
  {
   "cell_type": "code",
   "execution_count": 20,
   "id": "001ede97",
   "metadata": {},
   "outputs": [
    {
     "data": {
      "text/plain": [
       "discourse_effectiveness\n",
       "Adequate       0.423985\n",
       "Effective      0.457080\n",
       "Ineffective    0.425296\n",
       "Name: subjectivity, dtype: float64"
      ]
     },
     "execution_count": 20,
     "metadata": {},
     "output_type": "execute_result"
    },
    {
     "data": {
      "image/png": "[encoded data removed]",
      "text/plain": [
       "<Figure size 432x288 with 1 Axes>"
      ]
     },
     "metadata": {
      "needs_background": "light"
     },
     "output_type": "display_data"
    }
   ],
   "source": [
    "sns.barplot(data=test_df, y='subjectivity', \n",
    "            x= 'discourse_effectiveness',\n",
    "            errorbar=('ci',95),\n",
    "           ).set(title=\"Effetiveness with dicourse_type and word count\")\n",
    "test_df.groupby('discourse_effectiveness').subjectivity.mean()"
   ]
  },
  {
   "cell_type": "markdown",
   "id": "e45bb97c",
   "metadata": {},
   "source": [
    "### Discourse Type vs Word Count"
   ]
  },
  {
   "cell_type": "code",
   "execution_count": 21,
   "id": "4adb8539",
   "metadata": {
    "scrolled": true
   },
   "outputs": [
    {
     "data": {
      "text/plain": [
       "<seaborn.axisgrid.FacetGrid at 0x13365d300>"
      ]
     },
     "execution_count": 21,
     "metadata": {},
     "output_type": "execute_result"
    },
    {
     "data": {
      "image/png": "[encoded data removed]",
      "text/plain": [
       "<Figure size 972x216 with 3 Axes>"
      ]
     },
     "metadata": {
      "needs_background": "light"
     },
     "output_type": "display_data"
    }
   ],
   "source": [
    "g = sns.FacetGrid(test_df, col=\"discourse_effectiveness\",aspect = 1.5,height = 3)\n",
    "g.map(sns.barplot, 'word_count', 'discourse_type', order=['Lead','Position','Claim','Evidence' ,'Counterclaim', 'Rebuttal',\n",
    " 'Concluding Statement'])\n"
   ]
  },
  {
   "cell_type": "markdown",
   "id": "9c87e42d",
   "metadata": {},
   "source": [
    "### Discourse type vs Polarity"
   ]
  },
  {
   "cell_type": "code",
   "execution_count": 22,
   "id": "40da4166",
   "metadata": {
    "scrolled": true
   },
   "outputs": [
    {
     "data": {
      "text/plain": [
       "<seaborn.axisgrid.FacetGrid at 0x133306170>"
      ]
     },
     "execution_count": 22,
     "metadata": {},
     "output_type": "execute_result"
    },
    {
     "data": {
      "image/png": "[encoded data removed]",
      "text/plain": [
       "<Figure size 972x216 with 3 Axes>"
      ]
     },
     "metadata": {
      "needs_background": "light"
     },
     "output_type": "display_data"
    }
   ],
   "source": [
    "g = sns.FacetGrid(test_df, col=\"discourse_effectiveness\",aspect = 1.5,height = 3)\n",
    "g.map(sns.barplot, 'polarity', 'discourse_type', order=['Lead','Position','Claim','Evidence' ,'Counterclaim', 'Rebuttal',\n",
    " 'Concluding Statement'])\n"
   ]
  },
  {
   "cell_type": "markdown",
   "id": "b3dca486",
   "metadata": {},
   "source": [
    "### Discourse Type vs Subjectivity"
   ]
  },
  {
   "cell_type": "code",
   "execution_count": 23,
   "id": "43011bc5",
   "metadata": {},
   "outputs": [
    {
     "data": {
      "text/plain": [
       "<seaborn.axisgrid.FacetGrid at 0x1333a2aa0>"
      ]
     },
     "execution_count": 23,
     "metadata": {},
     "output_type": "execute_result"
    },
    {
     "data": {
      "image/png": "[encoded data removed]",
      "text/plain": [
       "<Figure size 972x216 with 3 Axes>"
      ]
     },
     "metadata": {
      "needs_background": "light"
     },
     "output_type": "display_data"
    }
   ],
   "source": [
    "g = sns.FacetGrid(test_df, col=\"discourse_effectiveness\",aspect = 1.5,height = 3)\n",
    "g.map(sns.barplot, 'subjectivity', 'discourse_type', order=['Lead','Position','Claim','Evidence' ,'Counterclaim', 'Rebuttal',\n",
    " 'Concluding Statement'])\n"
   ]
  },
  {
   "cell_type": "code",
   "execution_count": null,
   "id": "f295ee59",
   "metadata": {},
   "outputs": [],
   "source": []
  },
  {
   "cell_type": "markdown",
   "id": "c9651985",
   "metadata": {},
   "source": [
    "## Word Statistics"
   ]
  },
  {
   "cell_type": "markdown",
   "id": "a61cca38",
   "metadata": {},
   "source": [
    "### Top 10 Words Used Overall"
   ]
  },
  {
   "cell_type": "code",
   "execution_count": 24,
   "id": "4b9c9ea5",
   "metadata": {},
   "outputs": [
    {
     "data": {
      "text/plain": [
       "<AxesSubplot: xlabel='count', ylabel='word'>"
      ]
     },
     "execution_count": 24,
     "metadata": {},
     "output_type": "execute_result"
    },
    {
     "data": {
      "image/png": "[encoded data removed]",
      "text/plain": [
       "<Figure size 432x288 with 1 Axes>"
      ]
     },
     "metadata": {
      "needs_background": "light"
     },
     "output_type": "display_data"
    }
   ],
   "source": [
    "sns.barplot(data=word_df,\n",
    "           y = word_df.head(10)['word'],\n",
    "           x= word_df.head(10)['count'])"
   ]
  },
  {
   "cell_type": "markdown",
   "id": "b5d6b31a",
   "metadata": {},
   "source": [
    "### Top 10 words across each effectiveness level"
   ]
  },
  {
   "cell_type": "code",
   "execution_count": 25,
   "id": "d45d3e52",
   "metadata": {},
   "outputs": [],
   "source": [
    "# effective = set(list(word_df.loc[word_df['discourse_effectiveness'] == 'Effective'].sort_values(by='count', ascending=False).head(10)['word']))\n",
    "# adequate = set(list(word_df.loc[word_df['discourse_effectiveness'] == 'Adequate'].sort_values(by='count', ascending=False).head(10)['word']))\n",
    "# ineffective=set(list(word_df.loc[word_df['discourse_effectiveness'] == 'Ineffective'].sort_values(by='count', ascending=False).head(10)['word']))\n",
    "# # venn2([set(effective), set(adequate), set(ineffective)], set_labels = ('Effective', 'Adequate', 'Ineffective'))\n",
    "# venn2([set(effective), set(adequate)])"
   ]
  },
  {
   "cell_type": "markdown",
   "id": "002d570d",
   "metadata": {},
   "source": [
    "### Top 10 words in Effective Arguments"
   ]
  },
  {
   "cell_type": "code",
   "execution_count": 26,
   "id": "1e6eb97f",
   "metadata": {
    "scrolled": true
   },
   "outputs": [
    {
     "data": {
      "text/plain": [
       "[Text(0.5, 1.0, 'Top 10 Words in Effective')]"
      ]
     },
     "execution_count": 26,
     "metadata": {},
     "output_type": "execute_result"
    },
    {
     "data": {
      "image/png": "[encoded data removed]",
      "text/plain": [
       "<Figure size 432x288 with 1 Axes>"
      ]
     },
     "metadata": {
      "needs_background": "light"
     },
     "output_type": "display_data"
    }
   ],
   "source": [
    "sns.barplot(data=word_count(effective_df).head(10),\n",
    "           y = 'word',\n",
    "           x = 'count').set(title='Top 10 Words in Effective')"
   ]
  },
  {
   "cell_type": "markdown",
   "id": "066d1ffe",
   "metadata": {},
   "source": [
    "### top 10 words in Adequate Arguments"
   ]
  },
  {
   "cell_type": "code",
   "execution_count": 27,
   "id": "2b335110",
   "metadata": {},
   "outputs": [
    {
     "data": {
      "text/plain": [
       "[Text(0.5, 1.0, 'Top 10 Words in Adequate')]"
      ]
     },
     "execution_count": 27,
     "metadata": {},
     "output_type": "execute_result"
    },
    {
     "data": {
      "image/png": "[encoded data removed]",
      "text/plain": [
       "<Figure size 432x288 with 1 Axes>"
      ]
     },
     "metadata": {
      "needs_background": "light"
     },
     "output_type": "display_data"
    }
   ],
   "source": [
    "sns.barplot(data=word_count(adequate_df).head(10),\n",
    "           y = 'word',\n",
    "           x = 'count').set(title='Top 10 Words in Adequate')"
   ]
  },
  {
   "cell_type": "markdown",
   "id": "140bcf9f",
   "metadata": {},
   "source": [
    "### Top 10 Words in Ineffective Arguments"
   ]
  },
  {
   "cell_type": "code",
   "execution_count": 28,
   "id": "5ec1a775",
   "metadata": {},
   "outputs": [
    {
     "data": {
      "text/plain": [
       "[Text(0.5, 1.0, 'Top 10 Words in Ineffective')]"
      ]
     },
     "execution_count": 28,
     "metadata": {},
     "output_type": "execute_result"
    },
    {
     "data": {
      "image/png": "[encoded data removed]",
      "text/plain": [
       "<Figure size 432x288 with 1 Axes>"
      ]
     },
     "metadata": {
      "needs_background": "light"
     },
     "output_type": "display_data"
    }
   ],
   "source": [
    "sns.barplot(data=word_count(ineffective_df).head(10),\n",
    "           y = 'word',\n",
    "           x = 'count').set(title='Top 10 Words in Ineffective')"
   ]
  }
 ],
 "metadata": {
  "kernelspec": {
   "display_name": "Python 3 (ipykernel)",
   "language": "python",
   "name": "python3"
  },
  "language_info": {
   "codemirror_mode": {
    "name": "ipython",
    "version": 3
   },
   "file_extension": ".py",
   "mimetype": "text/x-python",
   "name": "python",
   "nbconvert_exporter": "python",
   "pygments_lexer": "ipython3",
   "version": "3.10.2"
  }
 },
 "nbformat": 4,
 "nbformat_minor": 5
}
