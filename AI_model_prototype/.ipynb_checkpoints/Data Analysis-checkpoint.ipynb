{
 "cells": [
  {
   "cell_type": "markdown",
   "id": "e2cfd1e0",
   "metadata": {},
   "source": [
    "# Data Analysis"
   ]
  },
  {
   "cell_type": "markdown",
   "id": "7785f008",
   "metadata": {},
   "source": [
    "### Importing Libraries"
   ]
  },
  {
   "cell_type": "code",
   "execution_count": null,
   "id": "0ccc79ad",
   "metadata": {},
   "outputs": [],
   "source": [
    "import pandas as pd\n",
    "import nltk\n",
    "import string\n",
    "from nltk import word_tokenize\n",
    "from nltk.corpus import stopwords\n",
    "from nltk.stem.porter import PorterStemmer\n",
    "from nltk import pos_tag\n",
    "from nltk.util import ngrams"
   ]
  },
  {
   "cell_type": "markdown",
   "id": "1e1db136",
   "metadata": {},
   "source": [
    "### Importing Data resources"
   ]
  },
  {
   "cell_type": "code",
   "execution_count": null,
   "id": "cece238d",
   "metadata": {},
   "outputs": [],
   "source": [
    "raw_test_loc = \"./resource_data/train.csv\""
   ]
  },
  {
   "cell_type": "markdown",
   "id": "ba575c9d",
   "metadata": {},
   "source": [
    "### Converting to Python Objects"
   ]
  },
  {
   "cell_type": "code",
   "execution_count": null,
   "id": "d7d8ccc7",
   "metadata": {},
   "outputs": [],
   "source": [
    "raw_test_df = pd.read_csv(raw_test_loc).dropna()\n",
    "cols = raw_test_df.columns\n",
    "col_dict = {}\n",
    "for i in cols:\n",
    "    col_dict[i] = (raw_test_df[i].unique())\n",
    "# print basic statistics\n",
    "for i in col_dict.keys():\n",
    "    print(i ,\":\", end= \" \")\n",
    "    if (len(col_dict[i]) < 10):\n",
    "        print( col_dict[i])\n",
    "    else:\n",
    "        print(len(col_dict[i]))"
   ]
  },
  {
   "cell_type": "markdown",
   "id": "0e60ac9e",
   "metadata": {},
   "source": [
    "### Preprocessing with NLTK"
   ]
  },
  {
   "cell_type": "code",
   "execution_count": null,
   "id": "bf2a662e",
   "metadata": {},
   "outputs": [],
   "source": [
    "test_df = raw_test_df\n",
    "def pre_process(text):\n",
    "#   Lower Texts\n",
    "    text = text.lower()\n",
    "#   Remove Punctuation\n",
    "    text_p = \"\".join([char for char in text if char not in string.punctuation])\n",
    "#   Tokenize\n",
    "    words = word_tokenize(text_p)\n",
    "#   Stopword Filtering\n",
    "    stop_words = stopwords.words('english')\n",
    "    filtered_words = [word for word in words if word not in stop_words]\n",
    "#   Stemming \n",
    "    porter = PorterStemmer()\n",
    "    stemmed = [porter.stem(word) for word in filtered_words]\n",
    "#   Part of Speech Token\n",
    "    pos = pos_tag(filtered_words)\n",
    "    return [words, filtered_words, stemmed, pos]\n",
    "def toNGrams(token, n):\n",
    "    return list(ngrams(token, n))"
   ]
  },
  {
   "cell_type": "markdown",
   "id": "304e9f4e",
   "metadata": {},
   "source": [
    "### Modifying the Data Frames"
   ]
  },
  {
   "cell_type": "code",
   "execution_count": null,
   "id": "fff507c1",
   "metadata": {},
   "outputs": [],
   "source": [
    "test_df['words'] = None\n",
    "test_df['filtered_words'] = None\n",
    "test_df['stemmed_words'] = None\n",
    "test_df['pos'] = None\n",
    "i = 0\n",
    "for i in test_df.index:\n",
    "    text_processed = pre_process(test_df['discourse_text'][i])\n",
    "    test_df['words'][i] = text_processed[0]\n",
    "    test_df['filtered_words'][i] = text_processed[1]\n",
    "    test_df['stemmed_words'][i] = text_processed[2]\n",
    "    test_df['pos'][i] = text_processed[3]\n",
    "test_df"
   ]
  },
  {
   "cell_type": "code",
   "execution_count": null,
   "id": "ec792cd9",
   "metadata": {},
   "outputs": [],
   "source": []
  }
 ],
 "metadata": {
  "kernelspec": {
   "display_name": "Python 3 (ipykernel)",
   "language": "python",
   "name": "python3"
  },
  "language_info": {
   "codemirror_mode": {
    "name": "ipython",
    "version": 3
   },
   "file_extension": ".py",
   "mimetype": "text/x-python",
   "name": "python",
   "nbconvert_exporter": "python",
   "pygments_lexer": "ipython3",
   "version": "3.10.2"
  }
 },
 "nbformat": 4,
 "nbformat_minor": 5
}
